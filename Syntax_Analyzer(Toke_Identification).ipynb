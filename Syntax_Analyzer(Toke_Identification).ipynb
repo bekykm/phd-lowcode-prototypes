{
  "nbformat": 4,
  "nbformat_minor": 0,
  "metadata": {
    "colab": {
      "provenance": [],
      "authorship_tag": "ABX9TyOv5rfjm9X0RlO1jif4zTSY",
      "include_colab_link": true
    },
    "kernelspec": {
      "name": "python3",
      "display_name": "Python 3"
    },
    "language_info": {
      "name": "python"
    }
  },
  "cells": [
    {
      "cell_type": "markdown",
      "metadata": {
        "id": "view-in-github",
        "colab_type": "text"
      },
      "source": [
        "<a href=\"https://colab.research.google.com/github/bekykm/phd-lowcode-prototypes/blob/main/Syntax_Analyzer(Toke_Identification).ipynb\" target=\"_parent\"><img src=\"https://colab.research.google.com/assets/colab-badge.svg\" alt=\"Open In Colab\"/></a>"
      ]
    },
    {
      "cell_type": "markdown",
      "source": [
        "**Sample Syntax Analysis Implementation**\n",
        "\n",
        "We'll create a parser that handles basic arithmetic assignment statements like:\n",
        "\n",
        "* x = 5 + 3;\n",
        "* y = 7;\n",
        "\n",
        "It checks whether the code follows this grammar:\n",
        "\n",
        "**Suppose Grammar:**\n",
        "* stmt        → ID = expr ;\n",
        "* expr        → term | term + term\n",
        "* term        → NUMBER\n"
      ],
      "metadata": {
        "id": "Ft7TjtXTdG0u"
      }
    },
    {
      "cell_type": "markdown",
      "source": [
        "**Define the structure of the Abstract Syntax Tree (AST)** used in syntax analysis to represent **assignment** and **arithmetic expressions** as follows."
      ],
      "metadata": {
        "id": "BvgdsMP1sr2e"
      }
    },
    {
      "cell_type": "code",
      "execution_count": 5,
      "metadata": {
        "id": "tDQOacBgbDDN"
      },
      "outputs": [],
      "source": [
        "# ------------------------------\n",
        "# Syntax Analysis (AST Construction)\n",
        "# ------------------------------\n",
        "\n",
        "# Define AST node classes\n",
        "class ASTNode:\n",
        "    pass\n",
        "\n",
        "class AssignNode(ASTNode):\n",
        "    def __init__(self, variable, expression):\n",
        "        self.variable = variable\n",
        "        self.expression = expression\n",
        "    def __str__(self):\n",
        "        return f\"Assign({self.variable}, {self.expression})\"\n",
        "\n",
        "class NumberNode(ASTNode):\n",
        "    def __init__(self, value):\n",
        "        self.value = value\n",
        "    def __str__(self):\n",
        "        return f\"{self.value}\"\n",
        "\n",
        "class PlusNode(ASTNode):\n",
        "    def __init__(self, left, right):\n",
        "        self.left = left\n",
        "        self.right = right\n",
        "    def __str__(self):\n",
        "        return f\"Plus({self.left}, {self.right})\""
      ]
    },
    {
      "cell_type": "markdown",
      "source": [
        "**Main function to start parsing tokens and build the AST.**"
      ],
      "metadata": {
        "id": "yuBdN7ditFD1"
      }
    },
    {
      "cell_type": "code",
      "source": [
        "# ------------------------------\n",
        "# Parser Implementation\n",
        "# ------------------------------\n",
        "\n",
        "def parse(tokens):\n",
        "    \"\"\"\n",
        "    Parse the token list into an AST according to the grammar.\n",
        "    Returns the root AST node or None if syntax error occurs.\n",
        "    \"\"\"\n",
        "    pos = 0 # Token position tracker\n",
        "\n",
        "    def current_token():   # Returns the current token or None if out of bounds.\n",
        "        return tokens[pos] if pos < len(tokens) else None\n",
        "\n",
        "    def consume(expected_type):  # Consumes and returns the current token if it matches the expected type.\n",
        "        nonlocal pos\n",
        "        token = current_token()\n",
        "        if token and token[0] == expected_type:\n",
        "            pos += 1\n",
        "            return token\n",
        "        print(f\"Syntax Error: Expected {expected_type}, got {token}\")\n",
        "        return None\n",
        "\n",
        "    def parse_term():   # Parses a numeric literal and returns a NumberNode.\n",
        "        token = current_token()\n",
        "        if token and token[0] == \"NUMBER\":\n",
        "            number = consume(\"NUMBER\")\n",
        "            return NumberNode(int(number[1]))\n",
        "        return None\n",
        "\n",
        "    def parse_expr():   # Parses an expression: either a single number or an addition of two terms.\n",
        "        left = parse_term()\n",
        "        if not left:\n",
        "            return None\n",
        "        token = current_token()\n",
        "        if token and token[0] == \"PLUS\":\n",
        "            consume(\"PLUS\")\n",
        "            right = parse_term()\n",
        "            if not right:\n",
        "                return None\n",
        "            return PlusNode(left, right)\n",
        "        return left\n",
        "\n",
        "    def parse_stmt():    # Parses an assignment statement of the form: ID = expr ;\n",
        "        token = current_token()\n",
        "        if token and token[0] == \"ID\":\n",
        "            var = consume(\"ID\")[1]\n",
        "            if not consume(\"EQUALS\"):\n",
        "                return None\n",
        "            expr = parse_expr()\n",
        "            if not expr:\n",
        "                return None\n",
        "            if not consume(\"SEMI\"):\n",
        "                return None\n",
        "            return AssignNode(var, expr)\n",
        "        print(\"Syntax Error: Expected ID at the beginning of statement.\")\n",
        "        return None\n",
        "\n",
        "    return parse_stmt()"
      ],
      "metadata": {
        "id": "lkrt3wjzjQ-Y"
      },
      "execution_count": 6,
      "outputs": []
    },
    {
      "cell_type": "markdown",
      "source": [
        "**Token Input Simulation**\n",
        "\n",
        "Creates a list of tokens that simulate the lexical analysis output for the statement ***x = 5 + 3;***."
      ],
      "metadata": {
        "id": "WxgyRk5lt6Kk"
      }
    },
    {
      "cell_type": "code",
      "source": [
        "# Simulated tokens for: x = 5 + 3;\n",
        "tokens = [\n",
        "    (\"ID\", \"x\"),\n",
        "    (\"EQUALS\", \"=\"),\n",
        "    (\"NUMBER\", \"5\"),\n",
        "    (\"PLUS\", \"+\"),\n",
        "    (\"NUMBER\", \"3\"),\n",
        "    (\"SEMI\", \";\")\n",
        "]\n",
        "\n",
        "# Parse and print the AST\n",
        "ast = parse(tokens)\n",
        "print(\"AST Output:\")\n",
        "print(ast)\n"
      ],
      "metadata": {
        "colab": {
          "base_uri": "https://localhost:8080/"
        },
        "id": "TUr7SgC4rj8f",
        "outputId": "dcab5556-7cad-4170-e1a1-31db51792495"
      },
      "execution_count": 12,
      "outputs": [
        {
          "output_type": "stream",
          "name": "stdout",
          "text": [
            "AST Output:\n",
            "Assign(x, Plus(5, 3))\n"
          ]
        }
      ]
    },
    {
      "cell_type": "markdown",
      "source": [],
      "metadata": {
        "id": "gXGNESsfdEWW"
      }
    }
  ]
}
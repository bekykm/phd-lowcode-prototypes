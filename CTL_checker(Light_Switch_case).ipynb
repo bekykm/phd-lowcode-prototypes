{
  "nbformat": 4,
  "nbformat_minor": 0,
  "metadata": {
    "colab": {
      "provenance": [],
      "authorship_tag": "ABX9TyN8ZO8iISEnzH5HNh9m/KGi",
      "include_colab_link": true
    },
    "kernelspec": {
      "name": "python3",
      "display_name": "Python 3"
    },
    "language_info": {
      "name": "python"
    }
  },
  "cells": [
    {
      "cell_type": "markdown",
      "metadata": {
        "id": "view-in-github",
        "colab_type": "text"
      },
      "source": [
        "<a href=\"https://colab.research.google.com/github/bekykm/phd-lowcode-prototypes/blob/main/CTL_checker(Light_Switch_case).ipynb\" target=\"_parent\"><img src=\"https://colab.research.google.com/assets/colab-badge.svg\" alt=\"Open In Colab\"/></a>"
      ]
    },
    {
      "cell_type": "markdown",
      "source": [
        "Lets define a simple system that can be in one of two states: \"On\" or \"Off\". The system behaves as follows:\n",
        "\n",
        "**1. States:**\n",
        "The system has two possible states it can be in:\n",
        "*   \"**On**\"\n",
        "*   \"**Off**\"\n",
        "\n",
        "**2. Transitions:**\n",
        "The system can move between these states based on defined transitions:\n",
        "*   If the system is in the \"**On**\" state, it can transition to \"**Off**\".\n",
        "*   If the system is in the \"**Off**\" state, it can transition to \"**On**\".\n",
        "This creates a simple toggle behavior—switching back and forth between \"On\" and \"Off\".\n",
        "\n",
        "**3. Labels:**\n",
        "Each state can have one or more properties (or labels) associated with it:\n",
        "*  The \"**On**\" state has the label \"**On**\", meaning it satisfies or represents the property \"On\".\n",
        "*  The \"**Off**\" state has no labels, so it doesn’t represent any properties."
      ],
      "metadata": {
        "id": "gzDIxTqLOED3"
      }
    },
    {
      "cell_type": "code",
      "execution_count": 4,
      "metadata": {
        "id": "cFlhNf5UM-m0"
      },
      "outputs": [],
      "source": [
        "# Simple CTL Model Checker for a Light Switch\n",
        "# Checks if the light can eventually be \"On\" (EF(On))\n",
        "\n",
        "# Model: A light switch with states \"On\" and \"Off\"\n",
        "states = [\"On\", \"Off\"]  # All possible states\n",
        "transitions = {\n",
        "    \"On\": [\"Off\"],      # From On, can go to Off\n",
        "    \"Off\": [\"On\"]       # From Off, can go to On\n",
        "}\n",
        "labels = {\n",
        "    \"On\": [\"On\"],       # State \"On\" has property \"On\"\n",
        "    \"Off\": []           # State \"Off\" has no properties\n",
        "}"
      ]
    },
    {
      "cell_type": "markdown",
      "source": [
        "below function checks whether a **property** (given by **property_name**) can *eventually be satisfied starting from a specific state*. This is based on the **temporal logic operator EF**, which stands for \"*Exists a path where Eventually a state with the property is reached.*\""
      ],
      "metadata": {
        "id": "dqjTXhSWP0D6"
      }
    },
    {
      "cell_type": "code",
      "source": [
        "def check_EF(property_name: str, start_state: str, visited: list) -> bool:\n",
        "    \"\"\"\n",
        "    Check if EF(property) holds: Can we reach a state with property_name?\n",
        "    visited: List of states we've seen to avoid loops.\n",
        "    \"\"\"\n",
        "    # If we've seen this state, skip to avoid infinite loops\n",
        "    if start_state in visited:\n",
        "        return False\n",
        "\n",
        "    # Add current state to visited\n",
        "    visited.append(start_state)\n",
        "\n",
        "    # Check if the current state has the property\n",
        "    if property_name in labels[start_state]:\n",
        "        return True\n",
        "\n",
        "    # Check all next states\n",
        "    next_states = transitions.get(start_state, [])\n",
        "    for next_state in next_states:\n",
        "        if check_EF(property_name, next_state, visited):\n",
        "            return True\n",
        "\n",
        "    return False"
      ],
      "metadata": {
        "id": "sOYgHDZQNJjH"
      },
      "execution_count": 2,
      "outputs": []
    },
    {
      "cell_type": "markdown",
      "source": [
        "Lets test whether it is possible to reach the state where the light is \"**On**\", starting from the state \"**Off**\"."
      ],
      "metadata": {
        "id": "zHiJ_v91Pqqq"
      }
    },
    {
      "cell_type": "code",
      "source": [
        "# Test the checker\n",
        "if __name__ == \"__main__\":\n",
        "    print(\"Checking EF(On) from state Off:\")\n",
        "    result = check_EF(\"On\", \"Off\", [])\n",
        "    print(f\"Can the light be On? {result}\")  # Should print True"
      ],
      "metadata": {
        "colab": {
          "base_uri": "https://localhost:8080/"
        },
        "id": "dxbtIOdqNVfH",
        "outputId": "47a92154-3c8c-4979-d789-53f036613854"
      },
      "execution_count": 3,
      "outputs": [
        {
          "output_type": "stream",
          "name": "stdout",
          "text": [
            "Checking EF(On) from state Off:\n",
            "Can the light be On? True\n"
          ]
        }
      ]
    },
    {
      "cell_type": "code",
      "source": [
        "# Test the checker\n",
        "if __name__ == \"__main__\":\n",
        "    print(\"Checking EF(On) from state Off:\")\n",
        "    result = check_EF(\"Off\", \"Off\", [])\n",
        "    print(f\"Can the light be On? {result}\")  # Should print False"
      ],
      "metadata": {
        "colab": {
          "base_uri": "https://localhost:8080/"
        },
        "id": "d07votPHQLHm",
        "outputId": "85617c6c-29a9-4cc3-beb1-9800ed2af90a"
      },
      "execution_count": 5,
      "outputs": [
        {
          "output_type": "stream",
          "name": "stdout",
          "text": [
            "Checking EF(On) from state Off:\n",
            "Can the light be On? False\n"
          ]
        }
      ]
    },
    {
      "cell_type": "code",
      "source": [],
      "metadata": {
        "id": "uAMzm7rEQY-N"
      },
      "execution_count": null,
      "outputs": []
    }
  ]
}